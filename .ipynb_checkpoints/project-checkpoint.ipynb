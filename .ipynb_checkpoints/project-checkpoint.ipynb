{
 "cells": [
  {
   "cell_type": "code",
   "execution_count": 1,
   "id": "b989196e-edda-4c07-b712-5d83a7f72613",
   "metadata": {},
   "outputs": [
    {
     "name": "stdout",
     "output_type": "stream",
     "text": [
      "Requirement already satisfied: scikit-learn in d:\\python\\lib\\site-packages (1.4.1.post1)\n",
      "Collecting scikit-learn\n",
      "  Downloading scikit_learn-1.4.2-cp310-cp310-win_amd64.whl (10.6 MB)\n",
      "     ---------------------------------------- 10.6/10.6 MB 8.8 MB/s eta 0:00:00\n",
      "Requirement already satisfied: threadpoolctl>=2.0.0 in d:\\python\\lib\\site-packages (from scikit-learn) (3.3.0)\n",
      "Requirement already satisfied: numpy>=1.19.5 in d:\\python\\lib\\site-packages (from scikit-learn) (1.24.3)\n",
      "Requirement already satisfied: scipy>=1.6.0 in d:\\python\\lib\\site-packages (from scikit-learn) (1.12.0)\n",
      "Requirement already satisfied: joblib>=1.2.0 in d:\\python\\lib\\site-packages (from scikit-learn) (1.3.2)\n",
      "Installing collected packages: scikit-learn\n",
      "  Attempting uninstall: scikit-learn\n",
      "    Found existing installation: scikit-learn 1.4.1.post1\n",
      "    Uninstalling scikit-learn-1.4.1.post1:\n",
      "      Successfully uninstalled scikit-learn-1.4.1.post1\n",
      "Successfully installed scikit-learn-1.4.2\n",
      "Note: you may need to restart the kernel to use updated packages.\n"
     ]
    },
    {
     "name": "stderr",
     "output_type": "stream",
     "text": [
      "\n",
      "[notice] A new release of pip available: 22.2.2 -> 24.0\n",
      "[notice] To update, run: python.exe -m pip install --upgrade pip\n"
     ]
    }
   ],
   "source": [
    "pip install -U scikit-learn"
   ]
  },
  {
   "cell_type": "code",
   "execution_count": 2,
   "id": "63e8e613-5cbf-414f-bc34-f3390dd49f6f",
   "metadata": {},
   "outputs": [
    {
     "name": "stdout",
     "output_type": "stream",
     "text": [
      "Requirement already satisfied: mediapipe in d:\\python\\lib\\site-packages (0.10.11)\n",
      "Requirement already satisfied: opencv-contrib-python in d:\\python\\lib\\site-packages (from mediapipe) (4.9.0.80)\n",
      "Requirement already satisfied: protobuf<4,>=3.11 in d:\\python\\lib\\site-packages (from mediapipe) (3.20.3)\n",
      "Requirement already satisfied: matplotlib in d:\\python\\lib\\site-packages (from mediapipe) (3.8.3)\n",
      "Requirement already satisfied: jax in d:\\python\\lib\\site-packages (from mediapipe) (0.4.26)\n",
      "Requirement already satisfied: attrs>=19.1.0 in d:\\python\\lib\\site-packages (from mediapipe) (23.2.0)\n",
      "Requirement already satisfied: flatbuffers>=2.0 in d:\\python\\lib\\site-packages (from mediapipe) (24.3.25)\n",
      "Requirement already satisfied: sounddevice>=0.4.4 in d:\\python\\lib\\site-packages (from mediapipe) (0.4.6)\n",
      "Requirement already satisfied: numpy in d:\\python\\lib\\site-packages (from mediapipe) (1.24.3)\n",
      "Requirement already satisfied: absl-py in d:\\python\\lib\\site-packages (from mediapipe) (2.1.0)\n",
      "Requirement already satisfied: CFFI>=1.0 in d:\\python\\lib\\site-packages (from sounddevice>=0.4.4->mediapipe) (1.16.0)\n",
      "Requirement already satisfied: opt-einsum in d:\\python\\lib\\site-packages (from jax->mediapipe) (3.3.0)\n",
      "Requirement already satisfied: ml-dtypes>=0.2.0 in d:\\python\\lib\\site-packages (from jax->mediapipe) (0.4.0)\n",
      "Requirement already satisfied: scipy>=1.9 in d:\\python\\lib\\site-packages (from jax->mediapipe) (1.12.0)\n",
      "Requirement already satisfied: packaging>=20.0 in d:\\python\\lib\\site-packages (from matplotlib->mediapipe) (23.2)\n",
      "Requirement already satisfied: python-dateutil>=2.7 in d:\\python\\lib\\site-packages (from matplotlib->mediapipe) (2.9.0.post0)\n",
      "Requirement already satisfied: contourpy>=1.0.1 in d:\\python\\lib\\site-packages (from matplotlib->mediapipe) (1.2.0)\n",
      "Requirement already satisfied: pyparsing>=2.3.1 in d:\\python\\lib\\site-packages (from matplotlib->mediapipe) (3.1.2)\n",
      "Requirement already satisfied: fonttools>=4.22.0 in d:\\python\\lib\\site-packages (from matplotlib->mediapipe) (4.49.0)\n",
      "Requirement already satisfied: cycler>=0.10 in d:\\python\\lib\\site-packages (from matplotlib->mediapipe) (0.12.1)\n",
      "Requirement already satisfied: pillow>=8 in d:\\python\\lib\\site-packages (from matplotlib->mediapipe) (10.2.0)\n",
      "Requirement already satisfied: kiwisolver>=1.3.1 in d:\\python\\lib\\site-packages (from matplotlib->mediapipe) (1.4.5)\n",
      "Requirement already satisfied: pycparser in d:\\python\\lib\\site-packages (from CFFI>=1.0->sounddevice>=0.4.4->mediapipe) (2.21)\n",
      "Requirement already satisfied: six>=1.5 in d:\\python\\lib\\site-packages (from python-dateutil>=2.7->matplotlib->mediapipe) (1.16.0)\n",
      "Note: you may need to restart the kernel to use updated packages.\n"
     ]
    },
    {
     "name": "stderr",
     "output_type": "stream",
     "text": [
      "\n",
      "[notice] A new release of pip available: 22.2.2 -> 24.0\n",
      "[notice] To update, run: python.exe -m pip install --upgrade pip\n"
     ]
    }
   ],
   "source": [
    "pip install mediapipe"
   ]
  },
  {
   "cell_type": "code",
   "execution_count": 3,
   "id": "80f450f1-7ec0-46ab-8656-ac221e03a81f",
   "metadata": {},
   "outputs": [
    {
     "name": "stdout",
     "output_type": "stream",
     "text": [
      "Requirement already satisfied: opencv-python in d:\\python\\lib\\site-packages (4.9.0.80)\n",
      "Requirement already satisfied: numpy>=1.21.2 in d:\\python\\lib\\site-packages (from opencv-python) (1.24.3)\n",
      "Note: you may need to restart the kernel to use updated packages.\n"
     ]
    },
    {
     "name": "stderr",
     "output_type": "stream",
     "text": [
      "\n",
      "[notice] A new release of pip available: 22.2.2 -> 24.0\n",
      "[notice] To update, run: python.exe -m pip install --upgrade pip\n"
     ]
    }
   ],
   "source": [
    "pip install opencv-python"
   ]
  },
  {
   "cell_type": "code",
   "execution_count": 4,
   "id": "e2ba47b9-1f4d-4f26-b34c-4e33ad4c0784",
   "metadata": {},
   "outputs": [
    {
     "name": "stdout",
     "output_type": "stream",
     "text": [
      "Requirement already satisfied: matplotlib in d:\\python\\lib\\site-packages (3.8.3)\n",
      "Requirement already satisfied: python-dateutil>=2.7 in d:\\python\\lib\\site-packages (from matplotlib) (2.9.0.post0)\n",
      "Requirement already satisfied: pyparsing>=2.3.1 in d:\\python\\lib\\site-packages (from matplotlib) (3.1.2)\n",
      "Requirement already satisfied: numpy<2,>=1.21 in d:\\python\\lib\\site-packages (from matplotlib) (1.24.3)\n",
      "Requirement already satisfied: kiwisolver>=1.3.1 in d:\\python\\lib\\site-packages (from matplotlib) (1.4.5)\n",
      "Requirement already satisfied: fonttools>=4.22.0 in d:\\python\\lib\\site-packages (from matplotlib) (4.49.0)\n",
      "Requirement already satisfied: pillow>=8 in d:\\python\\lib\\site-packages (from matplotlib) (10.2.0)\n",
      "Requirement already satisfied: packaging>=20.0 in d:\\python\\lib\\site-packages (from matplotlib) (23.2)\n",
      "Requirement already satisfied: contourpy>=1.0.1 in d:\\python\\lib\\site-packages (from matplotlib) (1.2.0)\n",
      "Requirement already satisfied: cycler>=0.10 in d:\\python\\lib\\site-packages (from matplotlib) (0.12.1)\n",
      "Requirement already satisfied: six>=1.5 in d:\\python\\lib\\site-packages (from python-dateutil>=2.7->matplotlib) (1.16.0)\n",
      "Note: you may need to restart the kernel to use updated packages.\n"
     ]
    },
    {
     "name": "stderr",
     "output_type": "stream",
     "text": [
      "\n",
      "[notice] A new release of pip available: 22.2.2 -> 24.0\n",
      "[notice] To update, run: python.exe -m pip install --upgrade pip\n"
     ]
    }
   ],
   "source": [
    "pip install matplotlib"
   ]
  },
  {
   "cell_type": "code",
   "execution_count": 7,
   "id": "4e56104d-5740-466f-b1f4-59ec579f6dbd",
   "metadata": {},
   "outputs": [
    {
     "name": "stdout",
     "output_type": "stream",
     "text": [
      "Requirement already satisfied: tensorflow in d:\\python\\lib\\site-packages (2.13.1)\n",
      "Requirement already satisfied: tensorflow-intel==2.13.1 in d:\\python\\lib\\site-packages (from tensorflow) (2.13.1)\n",
      "Requirement already satisfied: termcolor>=1.1.0 in d:\\python\\lib\\site-packages (from tensorflow-intel==2.13.1->tensorflow) (2.4.0)\n",
      "Requirement already satisfied: absl-py>=1.0.0 in d:\\python\\lib\\site-packages (from tensorflow-intel==2.13.1->tensorflow) (2.1.0)\n",
      "Requirement already satisfied: libclang>=13.0.0 in d:\\python\\lib\\site-packages (from tensorflow-intel==2.13.1->tensorflow) (18.1.1)\n",
      "Requirement already satisfied: gast<=0.4.0,>=0.2.1 in d:\\python\\lib\\site-packages (from tensorflow-intel==2.13.1->tensorflow) (0.4.0)\n",
      "Requirement already satisfied: keras<2.14,>=2.13.1 in d:\\python\\lib\\site-packages (from tensorflow-intel==2.13.1->tensorflow) (2.13.1)\n",
      "Requirement already satisfied: astunparse>=1.6.0 in d:\\python\\lib\\site-packages (from tensorflow-intel==2.13.1->tensorflow) (1.6.3)\n",
      "Requirement already satisfied: tensorflow-estimator<2.14,>=2.13.0 in d:\\python\\lib\\site-packages (from tensorflow-intel==2.13.1->tensorflow) (2.13.0)\n",
      "Requirement already satisfied: tensorflow-io-gcs-filesystem>=0.23.1 in d:\\python\\lib\\site-packages (from tensorflow-intel==2.13.1->tensorflow) (0.31.0)\n",
      "Requirement already satisfied: flatbuffers>=23.1.21 in d:\\python\\lib\\site-packages (from tensorflow-intel==2.13.1->tensorflow) (24.3.25)\n",
      "Requirement already satisfied: protobuf!=4.21.0,!=4.21.1,!=4.21.2,!=4.21.3,!=4.21.4,!=4.21.5,<5.0.0dev,>=3.20.3 in d:\\python\\lib\\site-packages (from tensorflow-intel==2.13.1->tensorflow) (3.20.3)\n",
      "Requirement already satisfied: opt-einsum>=2.3.2 in d:\\python\\lib\\site-packages (from tensorflow-intel==2.13.1->tensorflow) (3.3.0)\n",
      "Requirement already satisfied: typing-extensions<4.6.0,>=3.6.6 in d:\\python\\lib\\site-packages (from tensorflow-intel==2.13.1->tensorflow) (4.5.0)\n",
      "Requirement already satisfied: google-pasta>=0.1.1 in d:\\python\\lib\\site-packages (from tensorflow-intel==2.13.1->tensorflow) (0.2.0)\n",
      "Requirement already satisfied: numpy<=1.24.3,>=1.22 in d:\\python\\lib\\site-packages (from tensorflow-intel==2.13.1->tensorflow) (1.24.3)\n",
      "Requirement already satisfied: six>=1.12.0 in d:\\python\\lib\\site-packages (from tensorflow-intel==2.13.1->tensorflow) (1.16.0)\n",
      "Requirement already satisfied: wrapt>=1.11.0 in d:\\python\\lib\\site-packages (from tensorflow-intel==2.13.1->tensorflow) (1.16.0)\n",
      "Requirement already satisfied: setuptools in d:\\python\\lib\\site-packages (from tensorflow-intel==2.13.1->tensorflow) (63.2.0)\n",
      "Requirement already satisfied: packaging in d:\\python\\lib\\site-packages (from tensorflow-intel==2.13.1->tensorflow) (23.2)\n",
      "Requirement already satisfied: tensorboard<2.14,>=2.13 in d:\\python\\lib\\site-packages (from tensorflow-intel==2.13.1->tensorflow) (2.13.0)\n",
      "Requirement already satisfied: h5py>=2.9.0 in d:\\python\\lib\\site-packages (from tensorflow-intel==2.13.1->tensorflow) (3.11.0)\n",
      "Requirement already satisfied: grpcio<2.0,>=1.24.3 in d:\\python\\lib\\site-packages (from tensorflow-intel==2.13.1->tensorflow) (1.62.2)\n",
      "Requirement already satisfied: wheel<1.0,>=0.23.0 in d:\\python\\lib\\site-packages (from astunparse>=1.6.0->tensorflow-intel==2.13.1->tensorflow) (0.43.0)\n",
      "Requirement already satisfied: requests<3,>=2.21.0 in d:\\python\\lib\\site-packages (from tensorboard<2.14,>=2.13->tensorflow-intel==2.13.1->tensorflow) (2.31.0)\n",
      "Requirement already satisfied: werkzeug>=1.0.1 in d:\\python\\lib\\site-packages (from tensorboard<2.14,>=2.13->tensorflow-intel==2.13.1->tensorflow) (3.0.2)\n",
      "Requirement already satisfied: google-auth<3,>=1.6.3 in d:\\python\\lib\\site-packages (from tensorboard<2.14,>=2.13->tensorflow-intel==2.13.1->tensorflow) (2.29.0)\n",
      "Requirement already satisfied: markdown>=2.6.8 in d:\\python\\lib\\site-packages (from tensorboard<2.14,>=2.13->tensorflow-intel==2.13.1->tensorflow) (3.6)\n",
      "Requirement already satisfied: tensorboard-data-server<0.8.0,>=0.7.0 in d:\\python\\lib\\site-packages (from tensorboard<2.14,>=2.13->tensorflow-intel==2.13.1->tensorflow) (0.7.2)\n",
      "Requirement already satisfied: google-auth-oauthlib<1.1,>=0.5 in d:\\python\\lib\\site-packages (from tensorboard<2.14,>=2.13->tensorflow-intel==2.13.1->tensorflow) (1.0.0)\n",
      "Requirement already satisfied: pyasn1-modules>=0.2.1 in d:\\python\\lib\\site-packages (from google-auth<3,>=1.6.3->tensorboard<2.14,>=2.13->tensorflow-intel==2.13.1->tensorflow) (0.4.0)\n",
      "Requirement already satisfied: cachetools<6.0,>=2.0.0 in d:\\python\\lib\\site-packages (from google-auth<3,>=1.6.3->tensorboard<2.14,>=2.13->tensorflow-intel==2.13.1->tensorflow) (5.3.3)\n",
      "Requirement already satisfied: rsa<5,>=3.1.4 in d:\\python\\lib\\site-packages (from google-auth<3,>=1.6.3->tensorboard<2.14,>=2.13->tensorflow-intel==2.13.1->tensorflow) (4.9)\n",
      "Requirement already satisfied: requests-oauthlib>=0.7.0 in d:\\python\\lib\\site-packages (from google-auth-oauthlib<1.1,>=0.5->tensorboard<2.14,>=2.13->tensorflow-intel==2.13.1->tensorflow) (2.0.0)\n",
      "Requirement already satisfied: charset-normalizer<4,>=2 in d:\\python\\lib\\site-packages (from requests<3,>=2.21.0->tensorboard<2.14,>=2.13->tensorflow-intel==2.13.1->tensorflow) (3.3.2)\n",
      "Requirement already satisfied: urllib3<3,>=1.21.1 in d:\\python\\lib\\site-packages (from requests<3,>=2.21.0->tensorboard<2.14,>=2.13->tensorflow-intel==2.13.1->tensorflow) (2.2.1)\n",
      "Requirement already satisfied: certifi>=2017.4.17 in d:\\python\\lib\\site-packages (from requests<3,>=2.21.0->tensorboard<2.14,>=2.13->tensorflow-intel==2.13.1->tensorflow) (2024.2.2)\n",
      "Requirement already satisfied: idna<4,>=2.5 in d:\\python\\lib\\site-packages (from requests<3,>=2.21.0->tensorboard<2.14,>=2.13->tensorflow-intel==2.13.1->tensorflow) (3.6)\n",
      "Requirement already satisfied: MarkupSafe>=2.1.1 in d:\\python\\lib\\site-packages (from werkzeug>=1.0.1->tensorboard<2.14,>=2.13->tensorflow-intel==2.13.1->tensorflow) (2.1.5)\n",
      "Requirement already satisfied: pyasn1<0.7.0,>=0.4.6 in d:\\python\\lib\\site-packages (from pyasn1-modules>=0.2.1->google-auth<3,>=1.6.3->tensorboard<2.14,>=2.13->tensorflow-intel==2.13.1->tensorflow) (0.6.0)\n",
      "Requirement already satisfied: oauthlib>=3.0.0 in d:\\python\\lib\\site-packages (from requests-oauthlib>=0.7.0->google-auth-oauthlib<1.1,>=0.5->tensorboard<2.14,>=2.13->tensorflow-intel==2.13.1->tensorflow) (3.2.2)\n",
      "Note: you may need to restart the kernel to use updated packages.\n"
     ]
    },
    {
     "name": "stderr",
     "output_type": "stream",
     "text": [
      "\n",
      "[notice] A new release of pip available: 22.2.2 -> 24.0\n",
      "[notice] To update, run: python.exe -m pip install --upgrade pip\n"
     ]
    }
   ],
   "source": [
    "pip install tensorflow"
   ]
  },
  {
   "cell_type": "code",
   "execution_count": 8,
   "id": "5b5c5bcc-30ca-4c67-b666-e3a8597d2585",
   "metadata": {},
   "outputs": [],
   "source": [
    "import cv2\n",
    "import numpy as np\n",
    "import os\n",
    "os.environ['TF_ENABLE_ONEDNN_OPTS'] = '0'\n",
    "import keras\n",
    "from matplotlib import pyplot as plt\n",
    "import time\n",
    "import mediapipe as mp"
   ]
  },
  {
   "cell_type": "code",
   "execution_count": 10,
   "id": "a9bb7956-38a7-473a-b476-c44d609a1711",
   "metadata": {},
   "outputs": [],
   "source": [
    "cap = cv2.VideoCapture(0)\n",
    "while cap.isOpened():\n",
    "    ret, frame = cap.read()\n",
    "    cv2.imshow('OpenCV Feed', frame)\n",
    "    if cv2.waitKey(10) & 0xFF == ord('q'):\n",
    "        break\n",
    "cap.release()\n",
    "cv2.destroyAllWindows()"
   ]
  },
  {
   "cell_type": "code",
   "execution_count": null,
   "id": "8bd8e8a2-f063-4561-8621-323747b990a3",
   "metadata": {},
   "outputs": [],
   "source": []
  }
 ],
 "metadata": {
  "kernelspec": {
   "display_name": "Python 3 (ipykernel)",
   "language": "python",
   "name": "python3"
  },
  "language_info": {
   "codemirror_mode": {
    "name": "ipython",
    "version": 3
   },
   "file_extension": ".py",
   "mimetype": "text/x-python",
   "name": "python",
   "nbconvert_exporter": "python",
   "pygments_lexer": "ipython3",
   "version": "3.10.11"
  }
 },
 "nbformat": 4,
 "nbformat_minor": 5
}
